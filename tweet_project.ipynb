{
 "cells": [
  {
   "cell_type": "code",
   "execution_count": 1,
   "metadata": {},
   "outputs": [],
   "source": [
    "import tweepy\n",
    "import numpy as np\n",
    "import pandas as pd\n",
    "import nltk\n",
    "import neattext.functions as nfx"
   ]
  },
  {
   "cell_type": "code",
   "execution_count": 2,
   "metadata": {},
   "outputs": [
    {
     "data": {
      "text/plain": [
       "['BTC_ADDRESS_REGEX',\n",
       " 'CURRENCY_REGEX',\n",
       " 'CURRENCY_SYMB_REGEX',\n",
       " 'Counter',\n",
       " 'DATE_REGEX',\n",
       " 'EMAIL_REGEX',\n",
       " 'EMOJI_REGEX',\n",
       " 'HASTAG_REGEX',\n",
       " 'MASTERCard_REGEX',\n",
       " 'MD5_SHA_REGEX',\n",
       " 'MOST_COMMON_PUNCT_REGEX',\n",
       " 'NUMBERS_REGEX',\n",
       " 'PHONE_REGEX',\n",
       " 'PoBOX_REGEX',\n",
       " 'SPECIAL_CHARACTERS_REGEX',\n",
       " 'STOPWORDS',\n",
       " 'STOPWORDS_de',\n",
       " 'STOPWORDS_en',\n",
       " 'STOPWORDS_es',\n",
       " 'STOPWORDS_fr',\n",
       " 'STOPWORDS_ru',\n",
       " 'STOPWORDS_yo',\n",
       " 'STREET_ADDRESS_REGEX',\n",
       " 'TextFrame',\n",
       " 'URL_PATTERN',\n",
       " 'USER_HANDLES_REGEX',\n",
       " 'VISACard_REGEX',\n",
       " '__builtins__',\n",
       " '__cached__',\n",
       " '__doc__',\n",
       " '__file__',\n",
       " '__generate_text',\n",
       " '__loader__',\n",
       " '__name__',\n",
       " '__numbers_dict',\n",
       " '__package__',\n",
       " '__spec__',\n",
       " '_lex_richness_herdan',\n",
       " '_lex_richness_maas_ttr',\n",
       " 'clean_text',\n",
       " 'defaultdict',\n",
       " 'digit2words',\n",
       " 'extract_btc_address',\n",
       " 'extract_currencies',\n",
       " 'extract_currency_symbols',\n",
       " 'extract_dates',\n",
       " 'extract_emails',\n",
       " 'extract_emojis',\n",
       " 'extract_hashtags',\n",
       " 'extract_html_tags',\n",
       " 'extract_mastercard_addr',\n",
       " 'extract_md5sha',\n",
       " 'extract_numbers',\n",
       " 'extract_pattern',\n",
       " 'extract_phone_numbers',\n",
       " 'extract_postoffice_box',\n",
       " 'extract_shortwords',\n",
       " 'extract_special_characters',\n",
       " 'extract_stopwords',\n",
       " 'extract_street_address',\n",
       " 'extract_terms_in_bracket',\n",
       " 'extract_urls',\n",
       " 'extract_userhandles',\n",
       " 'extract_visacard_addr',\n",
       " 'fix_contractions',\n",
       " 'generate_sentence',\n",
       " 'hamming_distance',\n",
       " 'inverse_df',\n",
       " 'lexical_richness',\n",
       " 'markov_chain',\n",
       " 'math',\n",
       " 'nlargest',\n",
       " 'normalize',\n",
       " 'num2words',\n",
       " 'random',\n",
       " 're',\n",
       " 'read_txt',\n",
       " 'remove_accents',\n",
       " 'remove_bad_quotes',\n",
       " 'remove_btc_address',\n",
       " 'remove_currencies',\n",
       " 'remove_currency_symbols',\n",
       " 'remove_custom_pattern',\n",
       " 'remove_custom_words',\n",
       " 'remove_dates',\n",
       " 'remove_emails',\n",
       " 'remove_emojis',\n",
       " 'remove_hashtags',\n",
       " 'remove_html_tags',\n",
       " 'remove_mastercard_addr',\n",
       " 'remove_md5sha',\n",
       " 'remove_multiple_spaces',\n",
       " 'remove_non_ascii',\n",
       " 'remove_numbers',\n",
       " 'remove_phone_numbers',\n",
       " 'remove_postoffice_box',\n",
       " 'remove_puncts',\n",
       " 'remove_punctuations',\n",
       " 'remove_shortwords',\n",
       " 'remove_special_characters',\n",
       " 'remove_stopwords',\n",
       " 'remove_street_address',\n",
       " 'remove_terms_in_bracket',\n",
       " 'remove_urls',\n",
       " 'remove_userhandles',\n",
       " 'remove_visacard_addr',\n",
       " 'replace_bad_quotes',\n",
       " 'replace_currencies',\n",
       " 'replace_currency_symbols',\n",
       " 'replace_dates',\n",
       " 'replace_emails',\n",
       " 'replace_emojis',\n",
       " 'replace_numbers',\n",
       " 'replace_phone_numbers',\n",
       " 'replace_special_characters',\n",
       " 'replace_term',\n",
       " 'replace_urls',\n",
       " 'string',\n",
       " 'term_freq',\n",
       " 'to_txt',\n",
       " 'unicodedata',\n",
       " 'word_freq',\n",
       " 'word_length_freq']"
      ]
     },
     "execution_count": 2,
     "metadata": {},
     "output_type": "execute_result"
    }
   ],
   "source": [
    "dir(nfx)"
   ]
  },
  {
   "cell_type": "code",
   "execution_count": 5,
   "metadata": {},
   "outputs": [],
   "source": [
    "import snscrape.modules.twitter as sntwitter"
   ]
  },
  {
   "attachments": {},
   "cell_type": "markdown",
   "metadata": {},
   "source": [
    "# By using snscrape it becomes very handy to scrape data from various social media platforms. In our project we have used twitter for tweets."
   ]
  },
  {
   "attachments": {},
   "cell_type": "markdown",
   "metadata": {},
   "source": [
    "We just have to mention the size and #hashtag to search ( to the query) and rest all work is done in a very easy way."
   ]
  },
  {
   "cell_type": "code",
   "execution_count": 6,
   "metadata": {},
   "outputs": [],
   "source": [
    "def data_Aquistion(query):\n",
    "    tweet_list = []\n",
    "    for tweet in sntwitter.TwitterSearchScraper(query).get_items():\n",
    "        info = vars(tweet)\n",
    "        if len(tweet_list)>1500:\n",
    "            break\n",
    "        if info['lang']=='en':\n",
    "            tweet_list.append(info['rawContent'])\n",
    "    df=pd.DataFrame({\"tweets\":tweet_list})\n",
    "    df.to_csv(\"C:/Users/xbhi0/OneDrive/Desktop/NLP/Tweet project/tweets_data.csv\")\n",
    "    \n",
    "query=\"turkey\"\n",
    "data_Aquistion(query)"
   ]
  },
  {
   "attachments": {},
   "cell_type": "markdown",
   "metadata": {},
   "source": [
    "Here, we are reading the csv file saved earlier to train our model."
   ]
  },
  {
   "cell_type": "code",
   "execution_count": 7,
   "metadata": {},
   "outputs": [],
   "source": [
    "tweets = pd.read_csv(\"C:/Users/xbhi0/OneDrive/Desktop/NLP/Tweet project/tweets_data.csv\")"
   ]
  },
  {
   "cell_type": "code",
   "execution_count": 8,
   "metadata": {},
   "outputs": [
    {
     "data": {
      "text/html": [
       "<div>\n",
       "<style scoped>\n",
       "    .dataframe tbody tr th:only-of-type {\n",
       "        vertical-align: middle;\n",
       "    }\n",
       "\n",
       "    .dataframe tbody tr th {\n",
       "        vertical-align: top;\n",
       "    }\n",
       "\n",
       "    .dataframe thead th {\n",
       "        text-align: right;\n",
       "    }\n",
       "</style>\n",
       "<table border=\"1\" class=\"dataframe\">\n",
       "  <thead>\n",
       "    <tr style=\"text-align: right;\">\n",
       "      <th></th>\n",
       "      <th>Unnamed: 0</th>\n",
       "      <th>tweets</th>\n",
       "    </tr>\n",
       "  </thead>\n",
       "  <tbody>\n",
       "    <tr>\n",
       "      <th>0</th>\n",
       "      <td>0</td>\n",
       "      <td>Turkey, cheese, and almonds go together perfec...</td>\n",
       "    </tr>\n",
       "    <tr>\n",
       "      <th>1</th>\n",
       "      <td>1</td>\n",
       "      <td>@vidsthatgohard When you realize that turkey i...</td>\n",
       "    </tr>\n",
       "    <tr>\n",
       "      <th>2</th>\n",
       "      <td>2</td>\n",
       "      <td>@Wulf145 @TobiAyodele Answer: none, unless the...</td>\n",
       "    </tr>\n",
       "    <tr>\n",
       "      <th>3</th>\n",
       "      <td>3</td>\n",
       "      <td>@39Ciggs @das_Ruka Not at all. Iraq under Sadd...</td>\n",
       "    </tr>\n",
       "    <tr>\n",
       "      <th>4</th>\n",
       "      <td>4</td>\n",
       "      <td>@zaidkdahhaj Love it, I've done a thread on Tu...</td>\n",
       "    </tr>\n",
       "    <tr>\n",
       "      <th>...</th>\n",
       "      <td>...</td>\n",
       "      <td>...</td>\n",
       "    </tr>\n",
       "    <tr>\n",
       "      <th>95</th>\n",
       "      <td>95</td>\n",
       "      <td>@PowerUSAID @WhiteHouse New Autocracies in the...</td>\n",
       "    </tr>\n",
       "    <tr>\n",
       "      <th>96</th>\n",
       "      <td>96</td>\n",
       "      <td>@ARGAtheropodfan Probably my favourite Phorusr...</td>\n",
       "    </tr>\n",
       "    <tr>\n",
       "      <th>97</th>\n",
       "      <td>97</td>\n",
       "      <td>@HelluvaBttmCrtr lol not gonna happen, do it a...</td>\n",
       "    </tr>\n",
       "    <tr>\n",
       "      <th>98</th>\n",
       "      <td>98</td>\n",
       "      <td>Disney should ask me to provide expert testimo...</td>\n",
       "    </tr>\n",
       "    <tr>\n",
       "      <th>99</th>\n",
       "      <td>99</td>\n",
       "      <td>Russia's Foreign Minister Sergei Lavrov will v...</td>\n",
       "    </tr>\n",
       "  </tbody>\n",
       "</table>\n",
       "<p>100 rows × 2 columns</p>\n",
       "</div>"
      ],
      "text/plain": [
       "    Unnamed: 0                                             tweets\n",
       "0            0  Turkey, cheese, and almonds go together perfec...\n",
       "1            1  @vidsthatgohard When you realize that turkey i...\n",
       "2            2  @Wulf145 @TobiAyodele Answer: none, unless the...\n",
       "3            3  @39Ciggs @das_Ruka Not at all. Iraq under Sadd...\n",
       "4            4  @zaidkdahhaj Love it, I've done a thread on Tu...\n",
       "..         ...                                                ...\n",
       "95          95  @PowerUSAID @WhiteHouse New Autocracies in the...\n",
       "96          96  @ARGAtheropodfan Probably my favourite Phorusr...\n",
       "97          97  @HelluvaBttmCrtr lol not gonna happen, do it a...\n",
       "98          98  Disney should ask me to provide expert testimo...\n",
       "99          99  Russia's Foreign Minister Sergei Lavrov will v...\n",
       "\n",
       "[100 rows x 2 columns]"
      ]
     },
     "execution_count": 8,
     "metadata": {},
     "output_type": "execute_result"
    }
   ],
   "source": [
    "tweets[0:100]"
   ]
  },
  {
   "attachments": {},
   "cell_type": "markdown",
   "metadata": {},
   "source": [
    "We dont need the column 'Unnamed: 0' so we drop this column to improve our the quality of data for training."
   ]
  },
  {
   "cell_type": "code",
   "execution_count": 9,
   "metadata": {},
   "outputs": [
    {
     "data": {
      "text/html": [
       "<div>\n",
       "<style scoped>\n",
       "    .dataframe tbody tr th:only-of-type {\n",
       "        vertical-align: middle;\n",
       "    }\n",
       "\n",
       "    .dataframe tbody tr th {\n",
       "        vertical-align: top;\n",
       "    }\n",
       "\n",
       "    .dataframe thead th {\n",
       "        text-align: right;\n",
       "    }\n",
       "</style>\n",
       "<table border=\"1\" class=\"dataframe\">\n",
       "  <thead>\n",
       "    <tr style=\"text-align: right;\">\n",
       "      <th></th>\n",
       "      <th>tweets</th>\n",
       "    </tr>\n",
       "  </thead>\n",
       "  <tbody>\n",
       "    <tr>\n",
       "      <th>0</th>\n",
       "      <td>Turkey, cheese, and almonds go together perfec...</td>\n",
       "    </tr>\n",
       "    <tr>\n",
       "      <th>1</th>\n",
       "      <td>@vidsthatgohard When you realize that turkey i...</td>\n",
       "    </tr>\n",
       "    <tr>\n",
       "      <th>2</th>\n",
       "      <td>@Wulf145 @TobiAyodele Answer: none, unless the...</td>\n",
       "    </tr>\n",
       "    <tr>\n",
       "      <th>3</th>\n",
       "      <td>@39Ciggs @das_Ruka Not at all. Iraq under Sadd...</td>\n",
       "    </tr>\n",
       "    <tr>\n",
       "      <th>4</th>\n",
       "      <td>@zaidkdahhaj Love it, I've done a thread on Tu...</td>\n",
       "    </tr>\n",
       "    <tr>\n",
       "      <th>...</th>\n",
       "      <td>...</td>\n",
       "    </tr>\n",
       "    <tr>\n",
       "      <th>1496</th>\n",
       "      <td>@PapoTerryDB @JamesARay @SpeakerMcCarthy So, h...</td>\n",
       "    </tr>\n",
       "    <tr>\n",
       "      <th>1497</th>\n",
       "      <td>@CharliePawsUp You guys can do it.  Stay Posit...</td>\n",
       "    </tr>\n",
       "    <tr>\n",
       "      <th>1498</th>\n",
       "      <td>@TobiAyodele Serbia should apply, too. Althoug...</td>\n",
       "    </tr>\n",
       "    <tr>\n",
       "      <th>1499</th>\n",
       "      <td>Kremlin: No decision on whether Putin will vis...</td>\n",
       "    </tr>\n",
       "    <tr>\n",
       "      <th>1500</th>\n",
       "      <td>A night game on opening day is worse than maki...</td>\n",
       "    </tr>\n",
       "  </tbody>\n",
       "</table>\n",
       "<p>1501 rows × 1 columns</p>\n",
       "</div>"
      ],
      "text/plain": [
       "                                                 tweets\n",
       "0     Turkey, cheese, and almonds go together perfec...\n",
       "1     @vidsthatgohard When you realize that turkey i...\n",
       "2     @Wulf145 @TobiAyodele Answer: none, unless the...\n",
       "3     @39Ciggs @das_Ruka Not at all. Iraq under Sadd...\n",
       "4     @zaidkdahhaj Love it, I've done a thread on Tu...\n",
       "...                                                 ...\n",
       "1496  @PapoTerryDB @JamesARay @SpeakerMcCarthy So, h...\n",
       "1497  @CharliePawsUp You guys can do it.  Stay Posit...\n",
       "1498  @TobiAyodele Serbia should apply, too. Althoug...\n",
       "1499  Kremlin: No decision on whether Putin will vis...\n",
       "1500  A night game on opening day is worse than maki...\n",
       "\n",
       "[1501 rows x 1 columns]"
      ]
     },
     "execution_count": 9,
     "metadata": {},
     "output_type": "execute_result"
    }
   ],
   "source": [
    "tweets.drop(columns='Unnamed: 0')"
   ]
  },
  {
   "attachments": {},
   "cell_type": "markdown",
   "metadata": {},
   "source": [
    "From here onwards we start the actual data cleaning process i.e. data pre-processing steps."
   ]
  },
  {
   "attachments": {},
   "cell_type": "markdown",
   "metadata": {},
   "source": [
    "I have used Neattext library for this purpose as it very easy to use and gets the work done in very few lines of code."
   ]
  },
  {
   "cell_type": "code",
   "execution_count": 10,
   "metadata": {},
   "outputs": [
    {
     "data": {
      "text/plain": [
       "0            Turkey cheese almonds perfectly enjoy P3s\n",
       "1                               realize turkey country\n",
       "2    Answer none fucking nuke Also picture 2021 its...\n",
       "3    all Iraq Saddam far prosperous country region ...\n",
       "4                   Love it Ive thread Turkey Tail too\n",
       "Name: tweets, dtype: object"
      ]
     },
     "execution_count": 10,
     "metadata": {},
     "output_type": "execute_result"
    }
   ],
   "source": [
    "tweets['tweets'] = tweets['tweets'].apply(nfx.remove_urls)\n",
    "tweets['tweets'] = tweets['tweets'].apply(nfx.remove_userhandles)\n",
    "tweets['tweets'] = tweets['tweets'].apply(nfx.remove_html_tags)\n",
    "tweets['tweets'] = tweets['tweets'].apply(nfx.remove_emojis)\n",
    "tweets['tweets'] = tweets['tweets'].apply(nfx.remove_stopwords)\n",
    "tweets['tweets'] = tweets['tweets'].apply(nfx.remove_punctuations)\n",
    "tweets['tweets'] = tweets['tweets'].apply(nfx.remove_hashtags)\n",
    "tweets['tweets'] = tweets['tweets'].apply(nfx.remove_special_characters)\n",
    "tweets['tweets'].head()"
   ]
  },
  {
   "attachments": {},
   "cell_type": "markdown",
   "metadata": {},
   "source": [
    "# TOKENIZATION STEP"
   ]
  },
  {
   "cell_type": "code",
   "execution_count": 11,
   "metadata": {},
   "outputs": [],
   "source": [
    "def tokenized_data(text):\n",
    "    text = ' '.join([i for i in nltk.word_tokenize(text)])\n",
    "    return text"
   ]
  },
  {
   "cell_type": "code",
   "execution_count": 12,
   "metadata": {},
   "outputs": [
    {
     "data": {
      "text/plain": [
       "0               Turkey cheese almonds perfectly enjoy P3s\n",
       "1                                  realize turkey country\n",
       "2       Answer none fucking nuke Also picture 2021 its...\n",
       "3       all Iraq Saddam far prosperous country region ...\n",
       "4                      Love it Ive thread Turkey Tail too\n",
       "                              ...                        \n",
       "1496    So Biden cause inflation Germany Spain Italy U...\n",
       "1497    guys it Stay Positive Pray snow Im gon na buy ...\n",
       "1498    Serbia apply too smaller significance block en...\n",
       "1499    Kremlin decision Putin visit Turkey April View...\n",
       "1500    night game opening day worse making bacon maki...\n",
       "Name: tweets, Length: 1501, dtype: object"
      ]
     },
     "execution_count": 12,
     "metadata": {},
     "output_type": "execute_result"
    }
   ],
   "source": [
    "tweets['tweets'] = tweets['tweets'].apply(tokenized_data)\n",
    "tweets['tweets']"
   ]
  },
  {
   "attachments": {},
   "cell_type": "markdown",
   "metadata": {},
   "source": [
    "I have performed the below step to double check for unnecessary special characterss."
   ]
  },
  {
   "cell_type": "code",
   "execution_count": 13,
   "metadata": {},
   "outputs": [
    {
     "data": {
      "text/plain": [
       "0            Turkey cheese almonds perfectly enjoy P3s\n",
       "1                               realize turkey country\n",
       "2    Answer none fucking nuke Also picture 2021 its...\n",
       "3    all Iraq Saddam far prosperous country region ...\n",
       "4                   Love it Ive thread Turkey Tail too\n",
       "Name: tweets, dtype: object"
      ]
     },
     "execution_count": 13,
     "metadata": {},
     "output_type": "execute_result"
    }
   ],
   "source": [
    "waste_list = ['..','...','....','.....', '#',':']\n",
    "\n",
    "def remove_dots(text):\n",
    "    text = ' '.join([i for i in text.split() if i not in waste_list])\n",
    "    return text\n",
    "\n",
    "tweets['tweets'] = tweets['tweets'].apply(remove_dots)\n",
    "tweets['tweets'].head()"
   ]
  },
  {
   "attachments": {},
   "cell_type": "markdown",
   "metadata": {},
   "source": [
    "Converting the text into lower case, this is important for training point of view."
   ]
  },
  {
   "cell_type": "code",
   "execution_count": 14,
   "metadata": {},
   "outputs": [
    {
     "data": {
      "text/plain": [
       "0            turkey cheese almonds perfectly enjoy p3s\n",
       "1                               realize turkey country\n",
       "2    answer none fucking nuke also picture 2021 its...\n",
       "3    all iraq saddam far prosperous country region ...\n",
       "4                   love it ive thread turkey tail too\n",
       "Name: tweets, dtype: object"
      ]
     },
     "execution_count": 14,
     "metadata": {},
     "output_type": "execute_result"
    }
   ],
   "source": [
    "def lower_case(text):\n",
    "    text = ' '.join(i.lower() for i in text.split())\n",
    "    return text\n",
    "\n",
    "tweets['tweets'] = tweets['tweets'].apply(lower_case)\n",
    "tweets['tweets'].head()"
   ]
  },
  {
   "cell_type": "code",
   "execution_count": 15,
   "metadata": {},
   "outputs": [
    {
     "data": {
      "text/plain": [
       "pandas.core.frame.DataFrame"
      ]
     },
     "execution_count": 15,
     "metadata": {},
     "output_type": "execute_result"
    }
   ],
   "source": [
    "type(tweets)"
   ]
  },
  {
   "cell_type": "code",
   "execution_count": 16,
   "metadata": {},
   "outputs": [
    {
     "data": {
      "text/html": [
       "<div>\n",
       "<style scoped>\n",
       "    .dataframe tbody tr th:only-of-type {\n",
       "        vertical-align: middle;\n",
       "    }\n",
       "\n",
       "    .dataframe tbody tr th {\n",
       "        vertical-align: top;\n",
       "    }\n",
       "\n",
       "    .dataframe thead th {\n",
       "        text-align: right;\n",
       "    }\n",
       "</style>\n",
       "<table border=\"1\" class=\"dataframe\">\n",
       "  <thead>\n",
       "    <tr style=\"text-align: right;\">\n",
       "      <th></th>\n",
       "      <th>Unnamed: 0</th>\n",
       "      <th>tweets</th>\n",
       "    </tr>\n",
       "  </thead>\n",
       "  <tbody>\n",
       "    <tr>\n",
       "      <th>0</th>\n",
       "      <td>0</td>\n",
       "      <td>turkey cheese almonds perfectly enjoy p3s</td>\n",
       "    </tr>\n",
       "    <tr>\n",
       "      <th>1</th>\n",
       "      <td>1</td>\n",
       "      <td>realize turkey country</td>\n",
       "    </tr>\n",
       "    <tr>\n",
       "      <th>2</th>\n",
       "      <td>2</td>\n",
       "      <td>answer none fucking nuke also picture 2021 its...</td>\n",
       "    </tr>\n",
       "    <tr>\n",
       "      <th>3</th>\n",
       "      <td>3</td>\n",
       "      <td>all iraq saddam far prosperous country region ...</td>\n",
       "    </tr>\n",
       "    <tr>\n",
       "      <th>4</th>\n",
       "      <td>4</td>\n",
       "      <td>love it ive thread turkey tail too</td>\n",
       "    </tr>\n",
       "    <tr>\n",
       "      <th>...</th>\n",
       "      <td>...</td>\n",
       "      <td>...</td>\n",
       "    </tr>\n",
       "    <tr>\n",
       "      <th>1496</th>\n",
       "      <td>1496</td>\n",
       "      <td>so biden cause inflation germany spain italy u...</td>\n",
       "    </tr>\n",
       "    <tr>\n",
       "      <th>1497</th>\n",
       "      <td>1497</td>\n",
       "      <td>guys it stay positive pray snow im gon na buy ...</td>\n",
       "    </tr>\n",
       "    <tr>\n",
       "      <th>1498</th>\n",
       "      <td>1498</td>\n",
       "      <td>serbia apply too smaller significance block en...</td>\n",
       "    </tr>\n",
       "    <tr>\n",
       "      <th>1499</th>\n",
       "      <td>1499</td>\n",
       "      <td>kremlin decision putin visit turkey april view...</td>\n",
       "    </tr>\n",
       "    <tr>\n",
       "      <th>1500</th>\n",
       "      <td>1500</td>\n",
       "      <td>night game opening day worse making bacon maki...</td>\n",
       "    </tr>\n",
       "  </tbody>\n",
       "</table>\n",
       "<p>1501 rows × 2 columns</p>\n",
       "</div>"
      ],
      "text/plain": [
       "      Unnamed: 0                                             tweets\n",
       "0              0          turkey cheese almonds perfectly enjoy p3s\n",
       "1              1                             realize turkey country\n",
       "2              2  answer none fucking nuke also picture 2021 its...\n",
       "3              3  all iraq saddam far prosperous country region ...\n",
       "4              4                 love it ive thread turkey tail too\n",
       "...          ...                                                ...\n",
       "1496        1496  so biden cause inflation germany spain italy u...\n",
       "1497        1497  guys it stay positive pray snow im gon na buy ...\n",
       "1498        1498  serbia apply too smaller significance block en...\n",
       "1499        1499  kremlin decision putin visit turkey april view...\n",
       "1500        1500  night game opening day worse making bacon maki...\n",
       "\n",
       "[1501 rows x 2 columns]"
      ]
     },
     "execution_count": 16,
     "metadata": {},
     "output_type": "execute_result"
    }
   ],
   "source": [
    "tweets"
   ]
  },
  {
   "cell_type": "code",
   "execution_count": 17,
   "metadata": {},
   "outputs": [
    {
     "data": {
      "text/plain": [
       "'turkey cheese almonds perfectly enjoy p3s'"
      ]
     },
     "execution_count": 17,
     "metadata": {},
     "output_type": "execute_result"
    }
   ],
   "source": [
    "tweets['tweets'][0]"
   ]
  },
  {
   "attachments": {},
   "cell_type": "markdown",
   "metadata": {},
   "source": [
    "# STEMMING"
   ]
  },
  {
   "cell_type": "code",
   "execution_count": 18,
   "metadata": {},
   "outputs": [],
   "source": [
    "from nltk.stem import PorterStemmer\n",
    "\n",
    "def stemming(text):\n",
    "    ps = PorterStemmer()\n",
    "    text = ' '.join([ps.stem(i) for i in text.split()])\n",
    "    return text\n",
    "\n",
    "tweets['tweets'] = tweets['tweets'].apply(stemming)\n"
   ]
  },
  {
   "cell_type": "code",
   "execution_count": 19,
   "metadata": {},
   "outputs": [
    {
     "data": {
      "text/plain": [
       "0               turkey chees almond perfectli enjoy p3\n",
       "1                                realiz turkey countri\n",
       "2    answer none fuck nuke also pictur 2021 it nort...\n",
       "3    all iraq saddam far prosper countri region thi...\n",
       "4                   love it ive thread turkey tail too\n",
       "Name: tweets, dtype: object"
      ]
     },
     "execution_count": 19,
     "metadata": {},
     "output_type": "execute_result"
    }
   ],
   "source": [
    "tweets['tweets'].head()"
   ]
  },
  {
   "attachments": {},
   "cell_type": "markdown",
   "metadata": {},
   "source": [
    "As we dont have labelled dataset, so we are going to get the polarity score of the tweets and based on the polarity score we are going to label them."
   ]
  },
  {
   "cell_type": "code",
   "execution_count": 20,
   "metadata": {},
   "outputs": [
    {
     "name": "stderr",
     "output_type": "stream",
     "text": [
      "[nltk_data] Downloading package vader_lexicon to\n",
      "[nltk_data]     C:\\Users\\xbhi0\\AppData\\Roaming\\nltk_data...\n",
      "[nltk_data]   Package vader_lexicon is already up-to-date!\n"
     ]
    },
    {
     "data": {
      "text/plain": [
       "True"
      ]
     },
     "execution_count": 20,
     "metadata": {},
     "output_type": "execute_result"
    }
   ],
   "source": [
    "import nltk\n",
    "from nltk.sentiment.vader import SentimentIntensityAnalyzer\n",
    "nltk.download('vader_lexicon')"
   ]
  },
  {
   "cell_type": "code",
   "execution_count": 21,
   "metadata": {},
   "outputs": [
    {
     "name": "stdout",
     "output_type": "stream",
     "text": [
      "Polarity scores: [0.4939, 0.0, -0.5346, 0.0, 0.6369, 0.4404, 0.4215, 0.0, 0.6369, -0.3182, 0.3182, 0.2023, -0.2732, 0.0, 0.0, -0.6486, 0.0, -0.296, 0.5719, 0.1531, -0.128, 0.8176, 0.0, 0.0, -0.3252, 0.3818, -0.4939, 0.0, -0.2924, -0.1027, 0.4215, 0.0, 0.0, 0.1531, 0.6249, -0.2023, 0.3182, 0.3818, 0.4404, 0.0, 0.0, 0.0, 0.6369, -0.2617, 0.0, 0.34, -0.128, 0.0, 0.5719, 0.0, -0.5994, 0.3612, 0.0, 0.0, 0.4767, 0.3612, 0.3612, 0.0, 0.1551, 0.0, -0.4215, 0.0, -0.2732, 0.0, 0.7964, -0.0258, 0.0, -0.25, 0.5267, 0.6486, 0.743, -0.1027, 0.0, 0.6249, 0.5994, 0.743, 0.0, 0.7684, 0.0, 0.3612, 0.3612, 0.5994, 0.0, 0.0, 0.0, 0.296, 0.296, -0.7506, 0.0, 0.0, 0.0, 0.0, 0.4404, 0.0, 0.0, 0.0, 0.7534, 0.0516, -0.3818, 0.0, 0.0, 0.0, 0.4664, 0.5574, 0.0, 0.7783, 0.0, 0.0, 0.0, -0.9082, 0.0, 0.4939, 0.3612, 0.6369, 0.0, -0.25, 0.0, 0.0, -0.6808, 0.0, 0.0, 0.5574, 0.0, 0.0772, 0.0, -0.5106, 0.8658, 0.0, 0.1779, -0.7184, 0.0, 0.0, 0.4019, -0.5994, 0.0, -0.3818, 0.5859, 0.5423, 0.0, 0.0, 0.0, 0.743, 0.5106, 0.0, 0.1531, 0.0, 0.0, 0.558, -0.5106, 0.7184, 0.0, 0.0, 0.0, -0.5994, 0.4019, 0.4939, -0.743, 0.4939, 0.0, -0.5423, 0.0, -0.7845, 0.3612, 0.0, 0.0, -0.4215, -0.6908, 0.0, 0.0, -0.7184, -0.743, 0.0, 0.7506, 0.3182, 0.0, 0.0, 0.0, 0.5719, 0.8658, -0.1027, -0.6597, 0.296, 0.0, 0.926, 0.0, 0.6369, 0.926, -0.4767, 0.5423, 0.0, 0.926, 0.926, 0.0, 0.0, 0.926, 0.926, -0.128, 0.0, 0.926, 0.0, 0.8591, 0.0258, 0.0, -0.9217, 0.0, 0.4404, 0.0772, -0.6249, -0.9217, 0.926, 0.3612, 0.4404, -0.9217, 0.25, 0.0, 0.3612, -0.765, 0.0, 0.9042, -0.9217, -0.5994, -0.6249, 0.3612, -0.6597, 0.7579, -0.6249, 0.2263, 0.0, 0.0, 0.0, 0.9371, -0.3612, -0.1779, 0.802, 0.3182, 0.0, -0.7096, 0.0, 0.0, 0.0, 0.0, 0.0, 0.6369, -0.7351, 0.0, -0.1779, 0.0, -0.1027, 0.128, -0.7964, 0.4767, 0.0, 0.6249, 0.0, 0.4019, 0.0772, 0.0, 0.0, 0.0, -0.4767, 0.7845, 0.0, 0.0258, -0.5106, 0.0, 0.0, 0.1531, 0.4404, 0.0, 0.2263, 0.0, 0.296, 0.0, 0.0, 0.8555, 0.296, 0.0, 0.4019, 0.3818, -0.8225, 0.0, 0.0, -0.3818, 0.0, 0.457, 0.431, 0.4588, 0.0, 0.4939, 0.1531, 0.4404, 0.296, -0.5267, 0.4215, -0.5423, 0.0, 0.6369, 0.0, 0.0, -0.5267, -0.5574, 0.4019, -0.7269, -0.8402, 0.0, 0.5106, 0.6369, -0.128, 0.0, 0.5358, 0.0, 0.0, -0.4019, 0.0, 0.0, 0.0, 0.6124, 0.4767, 0.9136, 0.3818, 0.1779, -0.4767, 0.1705, 0.6369, 0.0, 0.8126, 0.7003, 0.5719, -0.8316, 0.0, 0.0, 0.8519, -0.5267, 0.0, 0.296, 0.0, 0.0, 0.0, -0.6486, -0.357, 0.0, -0.8074, -0.2732, -0.2755, 0.0, 0.0, 0.0, 0.5423, 0.0, 0.0, 0.0, 0.0, 0.0516, 0.4767, 0.4449, 0.8074, 0.0, 0.34, 0.0, 0.9398, -0.1779, -0.1531, -0.34, -0.5423, -0.4588, -0.25, -0.7351, 0.3612, -0.128, 0.0, 0.0, 0.743, 0.0, 0.0, -0.4215, 0.0, 0.296, 0.4019, 0.2057, -0.4588, 0.8591, 0.0, 0.0, 0.0, 0.0, -0.296, 0.836, -0.6562, 0.0, 0.0, -0.296, -0.6249, 0.296, 0.2263, 0.0, 0.0, -0.1779, 0.0, 0.7184, 0.0772, 0.6369, 0.7184, 0.0, 0.0, 0.6808, 0.5859, 0.8807, 0.0, 0.0, -0.2732, -0.8625, 0.4404, 0.0, 0.4404, 0.0, 0.0, 0.0, 0.0, -0.8224, 0.0, 0.8225, -0.5267, 0.0, 0.2732, 0.6369, 0.128, 0.296, -0.7269, 0.0, 0.0, 0.4404, 0.7003, 0.0, 0.0, -0.6705, 0.8779, -0.7269, 0.0, 0.8979, 0.7506, -0.033, 0.3182, 0.0, 0.128, -0.4019, -0.1027, -0.5423, -0.7003, -0.5423, -0.4939, -0.1027, 0.0, 0.0, 0.0, 0.4215, 0.7717, 0.0, 0.0, 0.0772, 0.8126, 0.3612, 0.0, -0.5574, -0.1027, 0.0, 0.5574, 0.0, -0.0516, 0.0, 0.0, -0.7579, 0.4019, 0.7579, -0.1779, 0.128, 0.0, 0.91, 0.0, -0.128, -0.9117, 0.6597, -0.4939, 0.0, -0.128, 0.7003, -0.2263, 0.0, 0.6369, -0.34, 0.6249, -0.4019, -0.0772, 0.8074, -0.5859, 0.0, 0.9552, 0.6908, -0.926, 0.4215, 0.0, 0.0, 0.4019, 0.0, 0.0, 0.5574, 0.0, 0.0, 0.0, 0.6486, 0.8555, 0.0, 0.0, -0.5267, 0.4019, 0.0, 0.0, -0.743, 0.0, 0.5574, 0.93, 0.0, 0.128, 0.0772, -0.2732, 0.0, 0.0, 0.0772, 0.0, 0.0, 0.0, 0.0, 0.5106, 0.0, 0.4404, 0.0, 0.0, 0.8519, 0.0, -0.6249, 0.4404, 0.2023, 0.6124, 0.4404, -0.6249, 0.0, 0.0, 0.3612, 0.7579, 0.0, 0.8658, -0.6249, 0.0, -0.6249, 0.6597, 0.2023, -0.7184, -0.7964, 0.34, 0.34, 0.0, 0.0, 0.0, -0.8625, 0.0, -0.1027, -0.5106, 0.0, -0.34, 0.4939, 0.34, 0.0, -0.2732, 0.0, 0.6486, 0.5267, 0.0, 0.1779, 0.0, 0.0, 0.4404, 0.0, 0.0, 0.9081, -0.9382, 0.0, 0.0, 0.0, 0.0, -0.5423, 0.0, 0.0, 0.3612, 0.1695, 0.0772, 0.7964, 0.0, -0.9001, 0.6249, 0.0, 0.0, 0.0, 0.765, 0.0, 0.1139, 0.0, 0.0, -0.7655, 0.4215, 0.0, 0.7506, -0.4939, 0.0, 0.34, 0.1531, -0.4404, 0.0, -0.128, -0.5719, 0.296, 0.0, 0.0, 0.0, 0.0, 0.0, 0.0, 0.2732, 0.0, 0.296, 0.0, 0.4588, 0.6369, 0.0, 0.4404, 0.0, 0.6369, 0.296, 0.6369, 0.0, 0.0772, -0.9565, 0.0, 0.0, 0.0, 0.0, 0.0, 0.0, 0.0, 0.0, -0.8658, -0.9883, 0.4019, 0.0, 0.1779, -0.4019, 0.0, 0.0, -0.25, -0.128, 0.0, 0.6369, -0.3182, -0.4404, 0.6249, 0.0, 0.0, -0.3612, 0.0, 0.296, 0.4215, 0.3612, 0.4767, -0.296, 0.2292, 0.3182, 0.8555, -0.8176, -0.0572, 0.0, 0.0, 0.0, 0.0, -0.2584, 0.0, 0.4449, 0.0, -0.5267, 0.7717, 0.2732, 0.0, 0.0, -0.1027, 0.0, 0.0, 0.0, 0.6369, 0.0, 0.4215, 0.0, 0.0, 0.1027, 0.3612, 0.0, 0.0, 0.0, 0.4019, 0.0, 0.0, 0.5106, 0.0, 0.5106, 0.0, -0.3612, 0.0, 0.0, 0.7964, -0.128, 0.8225, 0.0, 0.0, 0.0, 0.6369, 0.0, 0.0, -0.1027, 0.0, 0.2023, 0.296, 0.7506, -0.3182, 0.0, 0.5994, 0.0, 0.0, -0.7184, 0.0, -0.34, 0.0, -0.1027, 0.4019, 0.4019, 0.0, -0.128, -0.8689, 0.0, 0.0, 0.0, 0.0, 0.0, 0.4588, 0.7717, 0.0, -0.8126, 0.0, 0.0, 0.7003, 0.0, 0.0, 0.4404, 0.7579, 0.0, -0.743, 0.0, 0.4019, 0.0, 0.0, -0.34, 0.0, 0.0, 0.0, 0.0, 0.0, 0.743, -0.0516, 0.296, 0.7184, 0.0, -0.0772, 0.0, -0.8625, -0.5994, -0.5719, 0.743, 0.4588, 0.0, 0.0, 0.2023, -0.7717, 0.0, 0.4939, 0.0, -0.296, -0.891, 0.3612, 0.8555, 0.0, 0.0, 0.5106, 0.0, 0.0, 0.4939, -0.6486, 0.4588, 0.0, 0.0, -0.1027, -0.5267, 0.0, 0.0, 0.0, 0.0, 0.743, 0.0, 0.0, 0.4767, 0.4019, -0.7096, -0.0258, 0.0, 0.0, 0.7003, 0.0, 0.4019, 0.0, 0.0, -0.6597, 0.0, 0.0, 0.5423, 0.0, -0.3818, 0.296, 0.0, 0.0, 0.7003, 0.765, 0.7096, 0.0, -0.3818, -0.1027, 0.4404, 0.0, 0.4019, 0.0, 0.4215, 0.836, 0.0, 0.0, -0.5106, 0.4019, 0.0, 0.5859, 0.7184, 0.3612, 0.0, -0.1779, -0.7717, 0.3612, 0.6369, 0.0, 0.0, 0.1531, 0.765, 0.8979, 0.0, 0.3612, -0.4404, 0.7269, 0.0, 0.0, 0.0, 0.0, 0.0, -0.0516, 0.0, 0.0, 0.6369, 0.0516, -0.128, 0.0, 0.0, -0.9612, 0.4588, -0.6908, 0.4215, 0.3612, 0.0, 0.0, 0.0, 0.0, 0.0, -0.3612, 0.743, 0.5106, 0.0772, 0.6597, -0.4019, 0.5574, -0.9382, -0.5106, 0.0, 0.0, 0.0, 0.0, 0.5106, 0.4215, 0.0, 0.3612, 0.3612, -0.9169, 0.5106, 0.296, 0.3612, 0.0, 0.0, -0.9657, 0.0, -0.25, -0.4805, 0.0, -0.5994, 0.0, 0.8834, -0.1531, -0.296, -0.1779, 0.6249, 0.0, 0.0, -0.2732, -0.34, -0.8671, 0.2732, 0.6369, 0.6369, 0.743, 0.296, 0.0, 0.6369, -0.5423, 0.0, 0.0, 0.0, -0.5859, -0.0654, 0.0, 0.0, 0.128, -0.6908, 0.4404, 0.6486, 0.3612, 0.0, 0.3612, 0.0, 0.7003, 0.0, 0.0, 0.0, 0.0, 0.0, 0.0516, 0.0, 0.8885, 0.0, -0.8126, -0.7351, -0.128, 0.0, 0.0, 0.0, 0.6486, 0.0, 0.34, 0.0, -0.6705, 0.0, 0.7579, 0.2263, 0.0, -0.2741, 0.8779, 0.0, 0.0, 0.4939, -0.128, 0.8126, 0.7845, 0.0, 0.3612, 0.0, -0.5994, 0.0, 0.0, 0.4404, 0.7845, 0.0, -0.296, 0.0, -0.3612, 0.0, 0.0, 0.0, -0.1027, 0.3818, 0.296, 0.0, 0.0, -0.2023, 0.0, 0.6369, 0.0, 0.3252, -0.6124, 0.5106, 0.0, 0.0772, -0.7089, 0.3612, -0.5267, 0.0, 0.0, 0.3612, 0.0, 0.3182, 0.3612, -0.5267, 0.0, 0.7003, 0.0, -0.34, 0.743, 0.0, 0.0, 0.0, -0.8442, 0.5574, 0.0, 0.0, 0.0, 0.0, 0.0, 0.0, -0.9382, 0.1531, 0.0, 0.0, -0.8316, 0.0, 0.0, 0.5859, 0.1531, 0.0, 0.0, 0.0, 0.7717, 0.0, 0.3182, -0.4019, 0.0, -0.2023, 0.0, 0.0, 0.0, 0.0, 0.4767, 0.0, 0.0, -0.1027, 0.7783, 0.4019, 0.3612, 0.5574, -0.296, 0.6249, 0.0, 0.0, -0.6486, 0.8979, 0.4939, 0.0, 0.8689, 0.0, 0.0, -0.875, 0.4019, -0.3182, 0.4019, 0.5106, 0.1027, 0.0, 0.0, 0.0, 0.0, 0.743, 0.6369, -0.5994, 0.0, 0.0, 0.0, -0.25, 0.8316, 0.6808, 0.0, 0.0, 0.4019, 0.0, 0.0, 0.5994, 0.6808, 0.3612, 0.4767, 0.0, 0.6369, 0.6486, 0.0, 0.3612, 0.0, -0.9674, 0.2732, 0.0, 0.0, 0.0, 0.0, 0.0, -0.8979, -0.1027, 0.4767, -0.25, 0.0, 0.959, -0.6124, 0.0, 0.0, 0.0, -0.3818, 0.5574, 0.0, 0.0, -0.2732, -0.0258, 0.9477, 0.0, -0.3182, 0.0, 0.0, 0.7717, 0.743, 0.2023, 0.0, 0.3182, 0.0, 0.0516, -0.4767, 0.0, -0.2732, -0.3612, 0.4215, 0.0, -0.6808, -0.2732, 0.0, -0.1027, -0.5994, 0.678, 0.6124, 0.3612, 0.8176, 0.5859, 0.6369, 0.0, 0.0, 0.4215, 0.4019, 0.0772, 0.0, 0.0, 0.5719, 0.0, 0.5267, -0.4019, 0.34, 0.0, 0.3182, 0.0, 0.4404, 0.6597, 0.0, 0.0, 0.4404, 0.0, 0.0, 0.0, 0.5321, 0.4404, 0.0, 0.0, 0.4215, 0.6369, 0.0, 0.5859, -0.6908, 0.0, 0.7184, 0.4404, 0.0, -0.296, 0.0, 0.0, 0.0, -0.5859, 0.0, -0.3818, 0.1531, 0.0, 0.128, 0.0, 0.3818, -0.5267, 0.0, 0.6486, -0.25, 0.0, 0.0, -0.5994, 0.4404, 0.128, 0.0, 0.296, 0.0, 0.6249, 0.0, 0.296, -0.5423, 0.0258, 0.4215, 0.3612, 0.0, -0.836, 0.4215, 0.0258, 0.6249, 0.8176, 0.0, 0.25, 0.6249, 0.3818, 0.3612, 0.8658, -0.4019, 0.0, 0.3182, 0.0, 0.0, -0.5574, -0.6219, 0.3612, 0.0, 0.4767, 0.0, 0.0, 0.4019, 0.7003, 0.0, -0.836, 0.0, 0.128, 0.765, -0.1027, 0.0, 0.0, 0.4404, 0.743, -0.4215, 0.0, 0.2263, 0.0, -0.8316, -0.5994, 0.128, 0.0, 0.0, 0.0, 0.8074, 0.0, 0.7003, 0.4939, 0.0, -0.128, 0.0, 0.0, 0.0, 0.0, 0.0, 0.9371, 0.0, 0.743, -0.128, 0.0, 0.2023, 0.6808, -0.0258, 0.3818, 0.4019, 0.0, 0.6369, -0.4767, 0.3818, 0.8176, 0.0, 0.3612, -0.4588, 0.0, 0.0, 0.4767, 0.0, 0.0, 0.0, 0.0, 0.0, 0.0, -0.1027, 0.0, 0.0, 0.1779, 0.6808, 0.5106, 0.6369, 0.5423, 0.8555, 0.0, 0.296, 0.0, 0.4019, 0.0, 0.0, -0.0772, -0.3818, -0.3252, -0.25, 0.0, 0.0, 0.34, 0.9062, -0.6864, 0.0, 0.4019, 0.3612, 0.0, 0.7351, 0.3182, 0.296, -0.3818, 0.4404, 0.0258, -0.4019, 0.9423, 0.0, 0.0, 0.3612, 0.34, 0.0, -0.2023, 0.0, 0.0, 0.0, 0.6124, -0.128, -0.0772, 0.7269, 0.0, 0.0, 0.8402, -0.2263, 0.0, 0.0, -0.8402, 0.7351, -0.2263, 0.0, -0.2732, 0.0, 0.0, -0.5574, 0.0, -0.5574, 0.0, -0.7506, 0.3612, -0.3818, 0.7003, -0.7351, 0.0, 0.0, 0.3612, -0.1531, 0.7964, -0.2732, 0.0, 0.0, 0.2023, 0.0, -0.7783, 0.0, 0.0, 0.0, 0.34, 0.0, 0.0, 0.5994, 0.0, 0.0, 0.7003, 0.0, -0.5859, -0.8126, 0.0, 0.0, -0.8176, 0.0, -0.5267, 0.0, 0.0, 0.0, -0.7184, 0.7003, 0.7845, 0.7845, 0.6369, -0.8625, 0.0, 0.296, -0.2732, 0.4215, 0.0, -0.6486, 0.7269, 0.34, 0.0, 0.3818, 0.4215, 0.4939, 0.0, 0.4404, 0.0, -0.5267, 0.0, 0.0772, 0.7003, 0.0, -0.2023, -0.296, 0.0, -0.5423, 0.0, 0.7964, -0.9231, -0.836, 0.7717, 0.0, -0.6908, 0.6908, -0.2732, 0.0, 0.3612, -0.2732, 0.0, 0.296, 0.6486, -0.128, 0.0, -0.5574, 0.0, 0.4019, 0.296, -0.34, 0.0, 0.0772, 0.0, -0.128, 0.0, 0.5106, 0.0, 0.0, 0.0, -0.4215, 0.296, -0.7906, 0.8225, -0.8519, -0.5423, 0.2263, -0.4939, 0.0, 0.6486, -0.4019, -0.4019, 0.0, 0.6124, -0.4404, 0.0, 0.4404]\n"
     ]
    }
   ],
   "source": [
    "sia = SentimentIntensityAnalyzer()\n",
    "\n",
    "polarities = []\n",
    "for text in tweets['tweets']:\n",
    "    polarity = sia.polarity_scores(text)['compound']\n",
    "    polarities.append(polarity)\n",
    "\n",
    "print(\"Polarity scores:\", polarities)\n"
   ]
  },
  {
   "cell_type": "code",
   "execution_count": 22,
   "metadata": {},
   "outputs": [
    {
     "data": {
      "text/plain": [
       "1501"
      ]
     },
     "execution_count": 22,
     "metadata": {},
     "output_type": "execute_result"
    }
   ],
   "source": [
    "len(polarities)"
   ]
  },
  {
   "cell_type": "code",
   "execution_count": 23,
   "metadata": {},
   "outputs": [
    {
     "data": {
      "text/plain": [
       "list"
      ]
     },
     "execution_count": 23,
     "metadata": {},
     "output_type": "execute_result"
    }
   ],
   "source": [
    "type(polarities)"
   ]
  },
  {
   "attachments": {},
   "cell_type": "markdown",
   "metadata": {},
   "source": [
    "# The score 0 = neutral\n",
    "# score < 0 = Negative\n",
    "# score > 0 = Positive"
   ]
  },
  {
   "attachments": {},
   "cell_type": "markdown",
   "metadata": {},
   "source": [
    "Adding a column for polarity score in our dataset."
   ]
  },
  {
   "cell_type": "code",
   "execution_count": 24,
   "metadata": {},
   "outputs": [],
   "source": [
    "tweets['polarities'] = pd.DataFrame(polarities)"
   ]
  },
  {
   "cell_type": "code",
   "execution_count": 25,
   "metadata": {},
   "outputs": [
    {
     "data": {
      "text/html": [
       "<div>\n",
       "<style scoped>\n",
       "    .dataframe tbody tr th:only-of-type {\n",
       "        vertical-align: middle;\n",
       "    }\n",
       "\n",
       "    .dataframe tbody tr th {\n",
       "        vertical-align: top;\n",
       "    }\n",
       "\n",
       "    .dataframe thead th {\n",
       "        text-align: right;\n",
       "    }\n",
       "</style>\n",
       "<table border=\"1\" class=\"dataframe\">\n",
       "  <thead>\n",
       "    <tr style=\"text-align: right;\">\n",
       "      <th></th>\n",
       "      <th>Unnamed: 0</th>\n",
       "      <th>tweets</th>\n",
       "      <th>polarities</th>\n",
       "    </tr>\n",
       "  </thead>\n",
       "  <tbody>\n",
       "    <tr>\n",
       "      <th>0</th>\n",
       "      <td>0</td>\n",
       "      <td>turkey chees almond perfectli enjoy p3</td>\n",
       "      <td>0.4939</td>\n",
       "    </tr>\n",
       "    <tr>\n",
       "      <th>1</th>\n",
       "      <td>1</td>\n",
       "      <td>realiz turkey countri</td>\n",
       "      <td>0.0000</td>\n",
       "    </tr>\n",
       "    <tr>\n",
       "      <th>2</th>\n",
       "      <td>2</td>\n",
       "      <td>answer none fuck nuke also pictur 2021 it nort...</td>\n",
       "      <td>-0.5346</td>\n",
       "    </tr>\n",
       "    <tr>\n",
       "      <th>3</th>\n",
       "      <td>3</td>\n",
       "      <td>all iraq saddam far prosper countri region thi...</td>\n",
       "      <td>0.0000</td>\n",
       "    </tr>\n",
       "    <tr>\n",
       "      <th>4</th>\n",
       "      <td>4</td>\n",
       "      <td>love it ive thread turkey tail too</td>\n",
       "      <td>0.6369</td>\n",
       "    </tr>\n",
       "    <tr>\n",
       "      <th>5</th>\n",
       "      <td>5</td>\n",
       "      <td>year ago guy went busi busi sell patti cant re...</td>\n",
       "      <td>0.4404</td>\n",
       "    </tr>\n",
       "    <tr>\n",
       "      <th>6</th>\n",
       "      <td>6</td>\n",
       "      <td>yesterday senat pass resolut unanim consent se...</td>\n",
       "      <td>0.4215</td>\n",
       "    </tr>\n",
       "    <tr>\n",
       "      <th>7</th>\n",
       "      <td>7</td>\n",
       "      <td>turkey anim shot spike</td>\n",
       "      <td>0.0000</td>\n",
       "    </tr>\n",
       "    <tr>\n",
       "      <th>8</th>\n",
       "      <td>8</td>\n",
       "      <td>love reloc turkey mean there zero mjolo</td>\n",
       "      <td>0.6369</td>\n",
       "    </tr>\n",
       "    <tr>\n",
       "      <th>9</th>\n",
       "      <td>9</td>\n",
       "      <td>result collis truck 2 pickup truck citi urfa t...</td>\n",
       "      <td>-0.3182</td>\n",
       "    </tr>\n",
       "  </tbody>\n",
       "</table>\n",
       "</div>"
      ],
      "text/plain": [
       "   Unnamed: 0                                             tweets  polarities\n",
       "0           0             turkey chees almond perfectli enjoy p3      0.4939\n",
       "1           1                              realiz turkey countri      0.0000\n",
       "2           2  answer none fuck nuke also pictur 2021 it nort...     -0.5346\n",
       "3           3  all iraq saddam far prosper countri region thi...      0.0000\n",
       "4           4                 love it ive thread turkey tail too      0.6369\n",
       "5           5  year ago guy went busi busi sell patti cant re...      0.4404\n",
       "6           6  yesterday senat pass resolut unanim consent se...      0.4215\n",
       "7           7                             turkey anim shot spike      0.0000\n",
       "8           8            love reloc turkey mean there zero mjolo      0.6369\n",
       "9           9  result collis truck 2 pickup truck citi urfa t...     -0.3182"
      ]
     },
     "execution_count": 25,
     "metadata": {},
     "output_type": "execute_result"
    }
   ],
   "source": [
    "tweets[0:10]"
   ]
  },
  {
   "attachments": {},
   "cell_type": "markdown",
   "metadata": {},
   "source": [
    "Based on the polarity score we assign the tweet a neutral,negative or positive sentiment label."
   ]
  },
  {
   "cell_type": "code",
   "execution_count": 26,
   "metadata": {},
   "outputs": [],
   "source": [
    "def get_label(score):\n",
    "    if score < 0:\n",
    "        return \"negative\"\n",
    "    elif score == 0:\n",
    "        return \"neutral\"\n",
    "    else:\n",
    "        return \"positive\""
   ]
  },
  {
   "attachments": {},
   "cell_type": "markdown",
   "metadata": {},
   "source": [
    "Again adding a sentiment label column."
   ]
  },
  {
   "cell_type": "code",
   "execution_count": 27,
   "metadata": {},
   "outputs": [],
   "source": [
    "tweets[\"sentiment\"] = tweets[\"polarities\"].apply(lambda x: get_label(x))"
   ]
  },
  {
   "cell_type": "code",
   "execution_count": 28,
   "metadata": {},
   "outputs": [
    {
     "data": {
      "text/html": [
       "<div>\n",
       "<style scoped>\n",
       "    .dataframe tbody tr th:only-of-type {\n",
       "        vertical-align: middle;\n",
       "    }\n",
       "\n",
       "    .dataframe tbody tr th {\n",
       "        vertical-align: top;\n",
       "    }\n",
       "\n",
       "    .dataframe thead th {\n",
       "        text-align: right;\n",
       "    }\n",
       "</style>\n",
       "<table border=\"1\" class=\"dataframe\">\n",
       "  <thead>\n",
       "    <tr style=\"text-align: right;\">\n",
       "      <th></th>\n",
       "      <th>Unnamed: 0</th>\n",
       "      <th>tweets</th>\n",
       "      <th>polarities</th>\n",
       "      <th>sentiment</th>\n",
       "    </tr>\n",
       "  </thead>\n",
       "  <tbody>\n",
       "    <tr>\n",
       "      <th>0</th>\n",
       "      <td>0</td>\n",
       "      <td>turkey chees almond perfectli enjoy p3</td>\n",
       "      <td>0.4939</td>\n",
       "      <td>positive</td>\n",
       "    </tr>\n",
       "    <tr>\n",
       "      <th>1</th>\n",
       "      <td>1</td>\n",
       "      <td>realiz turkey countri</td>\n",
       "      <td>0.0000</td>\n",
       "      <td>neutral</td>\n",
       "    </tr>\n",
       "    <tr>\n",
       "      <th>2</th>\n",
       "      <td>2</td>\n",
       "      <td>answer none fuck nuke also pictur 2021 it nort...</td>\n",
       "      <td>-0.5346</td>\n",
       "      <td>negative</td>\n",
       "    </tr>\n",
       "    <tr>\n",
       "      <th>3</th>\n",
       "      <td>3</td>\n",
       "      <td>all iraq saddam far prosper countri region thi...</td>\n",
       "      <td>0.0000</td>\n",
       "      <td>neutral</td>\n",
       "    </tr>\n",
       "    <tr>\n",
       "      <th>4</th>\n",
       "      <td>4</td>\n",
       "      <td>love it ive thread turkey tail too</td>\n",
       "      <td>0.6369</td>\n",
       "      <td>positive</td>\n",
       "    </tr>\n",
       "    <tr>\n",
       "      <th>...</th>\n",
       "      <td>...</td>\n",
       "      <td>...</td>\n",
       "      <td>...</td>\n",
       "      <td>...</td>\n",
       "    </tr>\n",
       "    <tr>\n",
       "      <th>1496</th>\n",
       "      <td>1496</td>\n",
       "      <td>so biden caus inflat germani spain itali uk ca...</td>\n",
       "      <td>0.0000</td>\n",
       "      <td>neutral</td>\n",
       "    </tr>\n",
       "    <tr>\n",
       "      <th>1497</th>\n",
       "      <td>1497</td>\n",
       "      <td>guy it stay posit pray snow im gon na buy coup...</td>\n",
       "      <td>0.6124</td>\n",
       "      <td>positive</td>\n",
       "    </tr>\n",
       "    <tr>\n",
       "      <th>1498</th>\n",
       "      <td>1498</td>\n",
       "      <td>serbia appli too smaller signific block entri ...</td>\n",
       "      <td>-0.4404</td>\n",
       "      <td>negative</td>\n",
       "    </tr>\n",
       "    <tr>\n",
       "      <th>1499</th>\n",
       "      <td>1499</td>\n",
       "      <td>kremlin decis putin visit turkey april view more</td>\n",
       "      <td>0.0000</td>\n",
       "      <td>neutral</td>\n",
       "    </tr>\n",
       "    <tr>\n",
       "      <th>1500</th>\n",
       "      <td>1500</td>\n",
       "      <td>night game open day wors make bacon make find ...</td>\n",
       "      <td>0.4404</td>\n",
       "      <td>positive</td>\n",
       "    </tr>\n",
       "  </tbody>\n",
       "</table>\n",
       "<p>1501 rows × 4 columns</p>\n",
       "</div>"
      ],
      "text/plain": [
       "      Unnamed: 0                                             tweets  \\\n",
       "0              0             turkey chees almond perfectli enjoy p3   \n",
       "1              1                              realiz turkey countri   \n",
       "2              2  answer none fuck nuke also pictur 2021 it nort...   \n",
       "3              3  all iraq saddam far prosper countri region thi...   \n",
       "4              4                 love it ive thread turkey tail too   \n",
       "...          ...                                                ...   \n",
       "1496        1496  so biden caus inflat germani spain itali uk ca...   \n",
       "1497        1497  guy it stay posit pray snow im gon na buy coup...   \n",
       "1498        1498  serbia appli too smaller signific block entri ...   \n",
       "1499        1499   kremlin decis putin visit turkey april view more   \n",
       "1500        1500  night game open day wors make bacon make find ...   \n",
       "\n",
       "      polarities sentiment  \n",
       "0         0.4939  positive  \n",
       "1         0.0000   neutral  \n",
       "2        -0.5346  negative  \n",
       "3         0.0000   neutral  \n",
       "4         0.6369  positive  \n",
       "...          ...       ...  \n",
       "1496      0.0000   neutral  \n",
       "1497      0.6124  positive  \n",
       "1498     -0.4404  negative  \n",
       "1499      0.0000   neutral  \n",
       "1500      0.4404  positive  \n",
       "\n",
       "[1501 rows x 4 columns]"
      ]
     },
     "execution_count": 28,
     "metadata": {},
     "output_type": "execute_result"
    }
   ],
   "source": [
    "tweets"
   ]
  },
  {
   "attachments": {},
   "cell_type": "markdown",
   "metadata": {},
   "source": [
    "This is the overview of labels for our data."
   ]
  },
  {
   "cell_type": "code",
   "execution_count": 29,
   "metadata": {},
   "outputs": [
    {
     "data": {
      "text/plain": [
       "neutral     623\n",
       "positive    543\n",
       "negative    335\n",
       "Name: sentiment, dtype: int64"
      ]
     },
     "execution_count": 29,
     "metadata": {},
     "output_type": "execute_result"
    }
   ],
   "source": [
    "tweets['sentiment'].value_counts()"
   ]
  },
  {
   "cell_type": "code",
   "execution_count": 33,
   "metadata": {},
   "outputs": [],
   "source": [
    "y = tweets['sentiment'].value_counts()"
   ]
  },
  {
   "cell_type": "code",
   "execution_count": 31,
   "metadata": {},
   "outputs": [],
   "source": [
    "import matplotlib.pyplot as plt"
   ]
  },
  {
   "cell_type": "code",
   "execution_count": 34,
   "metadata": {},
   "outputs": [
    {
     "data": {
      "text/plain": [
       "<BarContainer object of 3 artists>"
      ]
     },
     "execution_count": 34,
     "metadata": {},
     "output_type": "execute_result"
    },
    {
     "data": {
      "image/png": "[encoded data removed]",
      "text/plain": [
       "<Figure size 640x480 with 1 Axes>"
      ]
     },
     "metadata": {},
     "output_type": "display_data"
    }
   ],
   "source": [
    "plt.bar(x=['neutral','positive','negative'],height=y)"
   ]
  },
  {
   "cell_type": "code",
   "execution_count": null,
   "metadata": {},
   "outputs": [],
   "source": []
  }
 ],
 "metadata": {
  "kernelspec": {
   "display_name": "Python 3",
   "language": "python",
   "name": "python3"
  },
  "language_info": {
   "codemirror_mode": {
    "name": "ipython",
    "version": 3
   },
   "file_extension": ".py",
   "mimetype": "text/x-python",
   "name": "python",
   "nbconvert_exporter": "python",
   "pygments_lexer": "ipython3",
   "version": "3.9.7"
  },
  "orig_nbformat": 4,
  "vscode": {
   "interpreter": {
    "hash": "a87794d43c0f035433fc5ecf15d72edf4312d2babf5533f63e7fc81f815ca8b7"
   }
  }
 },
 "nbformat": 4,
 "nbformat_minor": 2
}
